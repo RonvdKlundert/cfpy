{
 "cells": [
  {
   "cell_type": "code",
   "execution_count": 1,
   "metadata": {
    "collapsed": false,
    "inputHidden": false,
    "outputHidden": false
   },
   "outputs": [
    {
     "name": "stderr",
     "output_type": "stream",
     "text": [
      "Using TensorFlow backend.\n",
      "/home/knapen/software/miniconda3/envs/py36/lib/python3.6/site-packages/matplotlib/__init__.py:908: MatplotlibDeprecationWarning: The backend.qt4 rcParam was deprecated in version 2.2.  In order to force the use of a specific Qt binding, either import that binding first, or set the QT_API environment variable.\n",
      "  mplDeprecation)\n",
      "/home/knapen/software/miniconda3/envs/py36/lib/python3.6/site-packages/matplotlib/__init__.py:908: MatplotlibDeprecationWarning: The backend.qt4 rcParam was deprecated in version 2.2.  In order to force the use of a specific Qt binding, either import that binding first, or set the QT_API environment variable.\n",
      "  mplDeprecation)\n"
     ]
    }
   ],
   "source": [
    "# %load_ext autoreload\n",
    "# %autoreload 2\n",
    "\n",
    "import os, json\n",
    "import nibabel as nb\n",
    "\n",
    "from keras import metrics \n",
    "from keras.models import Sequential\n",
    "from keras.layers import Dense\n",
    "from keras.layers import Flatten\n",
    "from keras.layers import LocallyConnected1D\n",
    "from keras.layers.convolutional import Conv1D\n",
    "from keras.layers.convolutional import MaxPooling1D\n",
    "\n",
    "from keras.utils.vis_utils import plot_model\n",
    "\n",
    "import numpy as np\n",
    "import scipy as sp\n",
    "import pandas as pd\n",
    "import matplotlib.pyplot as plt\n",
    "import seaborn as sns\n",
    "\n",
    "import hrf_estimation\n",
    "import scipy.signal as signal\n",
    "import scipy.stats as stats\n",
    "\n",
    "from joblib import Parallel, delayed\n",
    "\n",
    "%matplotlib inline"
   ]
  },
  {
   "cell_type": "code",
   "execution_count": 2,
   "metadata": {
    "collapsed": false,
    "inputHidden": false,
    "outputHidden": false
   },
   "outputs": [],
   "source": [
    "# requires pfpy be installed - preferably with python setup.py develop\n",
    "from prfpy.rf import *\n",
    "from prfpy.timecourse import *\n",
    "from prfpy.stimulus import PRFStimulus2D\n",
    "from prfpy.grid import Iso2DGaussianGridder\n",
    "from prfpy.fit import Iso2DGaussianFitter"
   ]
  },
  {
   "cell_type": "code",
   "execution_count": 3,
   "metadata": {
    "collapsed": false,
    "inputHidden": false,
    "outputHidden": false
   },
   "outputs": [
    {
     "ename": "TypeError",
     "evalue": "__init__() got multiple values for argument 'data'",
     "output_type": "error",
     "traceback": [
      "\u001b[0;31m---------------------------------------------------------------------------\u001b[0m",
      "\u001b[0;31mTypeError\u001b[0m                                 Traceback (most recent call last)",
      "\u001b[0;32m<ipython-input-3-6b5bd2add09f>\u001b[0m in \u001b[0;36m<module>\u001b[0;34m()\u001b[0m\n\u001b[1;32m     24\u001b[0m                                             baseline=-0.76)]).squeeze()\n\u001b[1;32m     25\u001b[0m \u001b[0;34m\u001b[0m\u001b[0m\n\u001b[0;32m---> 26\u001b[0;31m \u001b[0mgf\u001b[0m \u001b[0;34m=\u001b[0m \u001b[0mIso2DGaussianFitter\u001b[0m\u001b[0;34m(\u001b[0m\u001b[0mdata\u001b[0m\u001b[0;34m=\u001b[0m\u001b[0msimulated_data\u001b[0m\u001b[0;34m,\u001b[0m \u001b[0mgridder\u001b[0m\u001b[0;34m=\u001b[0m\u001b[0mgg\u001b[0m\u001b[0;34m,\u001b[0m \u001b[0mn_jobs\u001b[0m\u001b[0;34m=\u001b[0m\u001b[0;36m2\u001b[0m\u001b[0;34m,\u001b[0m \u001b[0mfit_css\u001b[0m\u001b[0;34m=\u001b[0m\u001b[0;32mFalse\u001b[0m\u001b[0;34m)\u001b[0m\u001b[0;34m\u001b[0m\u001b[0;34m\u001b[0m\u001b[0m\n\u001b[0m",
      "\u001b[0;32m~/projects/prfpy/prfpy/fit.py\u001b[0m in \u001b[0;36m__init__\u001b[0;34m(self, data, gridder, n_jobs, fit_css, **kwargs)\u001b[0m\n\u001b[1;32m     94\u001b[0m \u001b[0;34m\u001b[0m\u001b[0m\n\u001b[1;32m     95\u001b[0m     \u001b[0;32mdef\u001b[0m \u001b[0m__init__\u001b[0m\u001b[0;34m(\u001b[0m\u001b[0mself\u001b[0m\u001b[0;34m,\u001b[0m \u001b[0mdata\u001b[0m\u001b[0;34m,\u001b[0m \u001b[0mgridder\u001b[0m\u001b[0;34m,\u001b[0m \u001b[0mn_jobs\u001b[0m\u001b[0;34m=\u001b[0m\u001b[0;36m1\u001b[0m\u001b[0;34m,\u001b[0m \u001b[0mfit_css\u001b[0m\u001b[0;34m=\u001b[0m\u001b[0;32mFalse\u001b[0m\u001b[0;34m,\u001b[0m \u001b[0;34m**\u001b[0m\u001b[0mkwargs\u001b[0m\u001b[0;34m)\u001b[0m\u001b[0;34m:\u001b[0m\u001b[0;34m\u001b[0m\u001b[0;34m\u001b[0m\u001b[0m\n\u001b[0;32m---> 96\u001b[0;31m         \u001b[0msuper\u001b[0m\u001b[0;34m(\u001b[0m\u001b[0;34m)\u001b[0m\u001b[0;34m.\u001b[0m\u001b[0m__init__\u001b[0m\u001b[0;34m(\u001b[0m\u001b[0mself\u001b[0m\u001b[0;34m,\u001b[0m \u001b[0mdata\u001b[0m\u001b[0;34m=\u001b[0m\u001b[0mdata\u001b[0m\u001b[0;34m,\u001b[0m \u001b[0mgridder\u001b[0m\u001b[0;34m=\u001b[0m\u001b[0mgridder\u001b[0m\u001b[0;34m,\u001b[0m \u001b[0mn_jobs\u001b[0m\u001b[0;34m=\u001b[0m\u001b[0mn_jobs\u001b[0m\u001b[0;34m,\u001b[0m \u001b[0;34m**\u001b[0m\u001b[0mkwargs\u001b[0m\u001b[0;34m)\u001b[0m\u001b[0;34m\u001b[0m\u001b[0;34m\u001b[0m\u001b[0m\n\u001b[0m\u001b[1;32m     97\u001b[0m         \u001b[0mself\u001b[0m\u001b[0;34m.\u001b[0m\u001b[0mfit_css\u001b[0m \u001b[0;34m=\u001b[0m \u001b[0mfit_css\u001b[0m\u001b[0;34m\u001b[0m\u001b[0;34m\u001b[0m\u001b[0m\n\u001b[1;32m     98\u001b[0m \u001b[0;34m\u001b[0m\u001b[0m\n",
      "\u001b[0;31mTypeError\u001b[0m: __init__() got multiple values for argument 'data'"
     ]
    }
   ],
   "source": [
    "stim_dm = np.load('../data/dm.npy').T # transpose for final dimension time\n",
    "prf_stim = PRFStimulus2D(screen_size_cm=70, \n",
    "                         screen_distance_cm=125, \n",
    "                         design_matrix=stim_dm, \n",
    "                         TR=1.6)\n",
    "\n",
    "grid_nr = 12\n",
    "max_ecc_size = 20\n",
    "sizes, eccs, polars = max_ecc_size * np.linspace(0.25,1,grid_nr)**2, \\\n",
    "                    max_ecc_size * np.linspace(0.1,1,grid_nr)**2, \\\n",
    "                        np.linspace(0, 2*np.pi, grid_nr)\n",
    "\n",
    "gg = Iso2DGaussianGridder(stimulus=prf_stim)\n",
    "\n",
    "simulated_data = np.array([gg.return_single_prediction(mu_x=1.23,\n",
    "                                            mu_y=-2.4,\n",
    "                                            size=1.12, \n",
    "                                            n=1.0,\n",
    "                                            beta=3.21,\n",
    "                                            baseline=-0.76),\n",
    "                  gg.return_single_prediction(mu_x=1.23,\n",
    "                                            mu_y=-2.4,\n",
    "                                            size=2.12, \n",
    "                                            n=1.0,\n",
    "                                            beta=3.21,\n",
    "                                            baseline=-0.76)]).squeeze()\n",
    "\n",
    "gf = Iso2DGaussianFitter(data=simulated_data, gridder=gg, n_jobs=2, fit_css=False)\n"
   ]
  },
  {
   "cell_type": "code",
   "execution_count": null,
   "metadata": {},
   "outputs": [],
   "source": [
    "gf.grid_fit(ecc_grid=eccs,\n",
    "                 polar_grid=polars,\n",
    "                 size_grid=sizes)"
   ]
  },
  {
   "cell_type": "code",
   "execution_count": null,
   "metadata": {},
   "outputs": [],
   "source": [
    "# print(gf.gridsearch_params.shape)\n",
    "gf.iterative_fit(rsq_threshold=0)\n",
    "print(gf.iterative_search_params)"
   ]
  },
  {
   "cell_type": "code",
   "execution_count": null,
   "metadata": {},
   "outputs": [],
   "source": [
    "f, ss = plt.subplots(1,2, figsize=(16,5)) \n",
    "ss[0].plot(simulated_data.T)\n",
    "ss[1].plot(np.array([gg.return_single_prediction(*ps[:-1]) for ps in gf.iterative_search_params]).squeeze().T)"
   ]
  },
  {
   "cell_type": "code",
   "execution_count": null,
   "metadata": {},
   "outputs": [],
   "source": [
    "np.unique(gf.gridder.ns)"
   ]
  },
  {
   "cell_type": "code",
   "execution_count": null,
   "metadata": {},
   "outputs": [],
   "source": []
  }
 ],
 "metadata": {
  "kernel_info": {
   "name": "py36"
  },
  "kernelspec": {
   "display_name": "Python (py36)",
   "language": "python",
   "name": "py36"
  },
  "language_info": {
   "codemirror_mode": {
    "name": "ipython",
    "version": 3
   },
   "file_extension": ".py",
   "mimetype": "text/x-python",
   "name": "python",
   "nbconvert_exporter": "python",
   "pygments_lexer": "ipython3",
   "version": "3.6.8"
  },
  "nteract": {
   "version": "0.13.0"
  }
 },
 "nbformat": 4,
 "nbformat_minor": 4
}
